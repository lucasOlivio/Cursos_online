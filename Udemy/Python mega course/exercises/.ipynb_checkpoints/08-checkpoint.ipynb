{
 "cells": [
  {
   "cell_type": "code",
   "execution_count": 5,
   "metadata": {},
   "outputs": [],
   "source": [
    "from bokeh.plotting import figure, output_file, show\n",
    "import pandas as pd\n",
    "from pandas import ExcelWriter, ExcelFile\n",
    "\n",
    "df = pd.read_excel('verlegenhuken.xlsx')\n",
    "\n",
    "p = figure(plot_width=500, plot_height=400)\n",
    "\n",
    "p.title.text = \"Temperature and air pressure\"\n",
    "p.title.text_color = \"Grey\"\n",
    "p.title.text_font = \"times\"\n",
    "p.title.text_font_size = \"26pt\"\n",
    "\n",
    "p.yaxis.minor_tick_line_color=None\n",
    "p.yaxis.axis_label=\"Pressure(hPa)\"\n",
    "\n",
    "p.xaxis.minor_tick_line_color=None\n",
    "p.xaxis.axis_label=\"Temperature(ºC)\"\n",
    "\n",
    "x = df['Temperature']/10\n",
    "y = df['Pressure']/10\n",
    "\n",
    "p.circle(x,y, color=\"blue\", size=0.5)\n",
    "\n",
    "output_file(\"Scatter_plotting-exercicio08.html\")\n",
    "\n",
    "show(p)"
   ]
  }
 ],
 "metadata": {
  "kernelspec": {
   "display_name": "Python 3",
   "language": "python",
   "name": "python3"
  }
 },
 "nbformat": 4,
 "nbformat_minor": 2
}
