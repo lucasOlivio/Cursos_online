{
 "cells": [
  {
   "cell_type": "code",
   "execution_count": 1,
   "metadata": {},
   "outputs": [],
   "source": [
    "from pybrain.datasets import SupervisedDataSet\n",
    "from pybrain.tools.shortcuts import buildNetwork\n",
    "from pybrain.supervised import BackpropTrainer"
   ]
  },
  {
   "cell_type": "code",
   "execution_count": 2,
   "metadata": {},
   "outputs": [],
   "source": [
    "dataset = SupervisedDataSet(3, 1)"
   ]
  },
  {
   "cell_type": "code",
   "execution_count": 4,
   "metadata": {},
   "outputs": [],
   "source": [
    "dataset.addSample([0,0,0],[0])\n",
    "dataset.addSample([0,0,1],[1])\n",
    "dataset.addSample([0,1,0],[1])\n",
    "dataset.addSample([0,1,1],[0])\n",
    "dataset.addSample([1,0,0],[1])\n",
    "dataset.addSample([1,0,1],[0])\n",
    "dataset.addSample([1,1,0],[0])\n",
    "dataset.addSample([1,1,1],[1])"
   ]
  },
  {
   "cell_type": "code",
   "execution_count": 10,
   "metadata": {},
   "outputs": [
    {
     "name": "stdout",
     "output_type": "stream",
     "text": [
      "\n",
      "Testing on data:\n",
      "('out:    ', '[-0    ]')\n",
      "('correct:', '[0     ]')\n",
      "error:  0.00000000\n",
      "('out:    ', '[1     ]')\n",
      "('correct:', '[1     ]')\n",
      "error:  0.00000000\n",
      "('out:    ', '[1     ]')\n",
      "('correct:', '[1     ]')\n",
      "error:  0.00000000\n",
      "('out:    ', '[0     ]')\n",
      "('correct:', '[0     ]')\n",
      "error:  0.00000000\n",
      "('out:    ', '[1     ]')\n",
      "('correct:', '[1     ]')\n",
      "error:  0.00000000\n",
      "('out:    ', '[-0    ]')\n",
      "('correct:', '[0     ]')\n",
      "error:  0.00000000\n",
      "('out:    ', '[-0    ]')\n",
      "('correct:', '[0     ]')\n",
      "error:  0.00000000\n",
      "('out:    ', '[1     ]')\n",
      "('correct:', '[1     ]')\n",
      "error:  0.00000000\n",
      "('All errors:', [4.023058690533369e-11, 8.316137116539792e-10, 1.6606771863496228e-11, 7.404005054266465e-10, 7.556439836058964e-10, 1.4232266795314034e-11, 8.935077937100793e-10, 3.976518044518941e-10])\n",
      "('Average error:', 4.612359280515799e-10)\n",
      "('Max error:', 8.935077937100793e-10, 'Median error:', 7.404005054266465e-10)\n"
     ]
    },
    {
     "data": {
      "text/plain": [
       "4.612359280515799e-10"
      ]
     },
     "execution_count": 10,
     "metadata": {},
     "output_type": "execute_result"
    }
   ],
   "source": [
    "network = buildNetwork(dataset.indim, 6, 6, dataset.outdim, bias=True)\n",
    "trainer = BackpropTrainer(network, dataset, learningrate=0.01, momentum=0.9)\n",
    "for i in range(1500):\n",
    "    trainer.train()\n",
    "\n",
    "test = SupervisedDataSet(3, 1)\n",
    "test.addSample([0,0,0],[0])\n",
    "test.addSample([0,0,1],[1])\n",
    "test.addSample([0,1,0],[1])\n",
    "test.addSample([0,1,1],[0])\n",
    "test.addSample([1,0,0],[1])\n",
    "test.addSample([1,0,1],[0])\n",
    "test.addSample([1,1,0],[0])\n",
    "test.addSample([1,1,1],[1])\n",
    "\n",
    "trainer.testOnData(test, verbose=True)"
   ]
  },
  {
   "cell_type": "code",
   "execution_count": 18,
   "metadata": {},
   "outputs": [
    {
     "name": "stdout",
     "output_type": "stream",
     "text": [
      "\n",
      "Testing on data:\n",
      "('out:    ', '[0     ]')\n",
      "('correct:', '[0     ]')\n",
      "error:  0.00000001\n",
      "('out:    ', '[1     ]')\n",
      "('correct:', '[1     ]')\n",
      "error:  0.00000001\n",
      "('out:    ', '[1     ]')\n",
      "('correct:', '[1     ]')\n",
      "error:  0.00000000\n",
      "('out:    ', '[0     ]')\n",
      "('correct:', '[0     ]')\n",
      "error:  0.00000000\n",
      "('out:    ', '[1     ]')\n",
      "('correct:', '[1     ]')\n",
      "error:  0.00000001\n",
      "('out:    ', '[0     ]')\n",
      "('correct:', '[0     ]')\n",
      "error:  0.00000002\n",
      "('out:    ', '[0     ]')\n",
      "('correct:', '[0     ]')\n",
      "error:  0.00000000\n",
      "('out:    ', '[1     ]')\n",
      "('correct:', '[1     ]')\n",
      "error:  0.00000000\n",
      "('All errors:', [8.857330151800262e-09, 6.007698020811523e-09, 8.150031859383314e-11, 2.2485572431639134e-10, 5.097261033152328e-09, 1.8587156156981238e-08, 6.204067141334218e-10, 7.401384696223676e-10])\n",
      "('Average error:', 5.02704332367642e-09)\n",
      "('Max error:', 1.8587156156981238e-08, 'Median error:', 5.097261033152328e-09)\n"
     ]
    },
    {
     "data": {
      "text/plain": [
       "5.02704332367642e-09"
      ]
     },
     "execution_count": 18,
     "metadata": {},
     "output_type": "execute_result"
    }
   ],
   "source": [
    "network = buildNetwork(dataset.indim, 4, dataset.outdim, bias=True)\n",
    "trainer = BackpropTrainer(network, dataset, learningrate=0.01, momentum=0.9)\n",
    "for i in range(1500):\n",
    "    trainer.train()\n",
    "\n",
    "test = SupervisedDataSet(3, 1)\n",
    "test.addSample([0,0,0],[0])\n",
    "test.addSample([0,0,1],[1])\n",
    "test.addSample([0,1,0],[1])\n",
    "test.addSample([0,1,1],[0])\n",
    "test.addSample([1,0,0],[1])\n",
    "test.addSample([1,0,1],[0])\n",
    "test.addSample([1,1,0],[0])\n",
    "test.addSample([1,1,1],[1])\n",
    "\n",
    "trainer.testOnData(test, verbose=True)"
   ]
  },
  {
   "cell_type": "code",
   "execution_count": null,
   "metadata": {},
   "outputs": [],
   "source": []
  }
 ],
 "metadata": {
  "kernelspec": {
   "display_name": "Python 3",
   "language": "python",
   "name": "python3"
  },
  "language_info": {
   "codemirror_mode": {
    "name": "ipython",
    "version": 3
   },
   "file_extension": ".py",
   "mimetype": "text/x-python",
   "name": "python",
   "nbconvert_exporter": "python",
   "pygments_lexer": "ipython3",
   "version": "3.6.6"
  }
 },
 "nbformat": 4,
 "nbformat_minor": 2
}
