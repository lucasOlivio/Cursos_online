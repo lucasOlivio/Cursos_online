{
 "cells": [
  {
   "cell_type": "code",
   "execution_count": 1,
   "metadata": {},
   "outputs": [],
   "source": [
    "'''\n",
    "sobrevivência de pacientes submetidos a cirurgia de cancer de mama\n",
    "'''\n",
    "\n",
    "#lista de amostras\n",
    "amostras = []"
   ]
  },
  {
   "cell_type": "code",
   "execution_count": 4,
   "metadata": {},
   "outputs": [],
   "source": [
    "with open('haberman.data','r') as f:\n",
    "    for linha in f.readlines():\n",
    "        atrib = linha.replace('\\n','').split(',')\n",
    "        amostras.append([int(atrib[0]),int(atrib[1]),\n",
    "                            int(atrib[2]),int(atrib[3])])"
   ]
  },
  {
   "cell_type": "code",
   "execution_count": 7,
   "metadata": {},
   "outputs": [
    {
     "data": {
      "text/plain": [
       "306"
      ]
     },
     "execution_count": 7,
     "metadata": {},
     "output_type": "execute_result"
    }
   ],
   "source": [
    "len(amostras)"
   ]
  },
  {
   "cell_type": "code",
   "execution_count": 8,
   "metadata": {},
   "outputs": [],
   "source": [
    "def info_dataset(amostras, verbose=True):\n",
    "    if verbose:\n",
    "        print('Total de amostras: %d' % len(amostras))\n",
    "    rotulo1, rotulo2 = 0,0\n",
    "    for amostra in amostras:\n",
    "        if amostra[-1] == 1:\n",
    "            rotulo1 += 1\n",
    "        else:\n",
    "            rotulo2 += 1\n",
    "    if verbose:\n",
    "        print('Total rotulo 1: %d' %rotulo1)\n",
    "        print('Total rotulo 2: %d' %rotulo2)\n",
    "    return [len(amostras), rotulo1, rotulo2]"
   ]
  },
  {
   "cell_type": "code",
   "execution_count": 10,
   "metadata": {},
   "outputs": [
    {
     "name": "stdout",
     "output_type": "stream",
     "text": [
      "Total de amostras: 306\n",
      "Total rotulo 1: 225\n",
      "Total rotulo 2: 81\n"
     ]
    },
    {
     "data": {
      "text/plain": [
       "[306, 225, 81]"
      ]
     },
     "execution_count": 10,
     "metadata": {},
     "output_type": "execute_result"
    }
   ],
   "source": [
    "info_dataset(amostras)"
   ]
  },
  {
   "cell_type": "code",
   "execution_count": 11,
   "metadata": {},
   "outputs": [],
   "source": [
    "p = 0.6\n",
    "_, rotulo1, rotulo2 = info_dataset(amostras, False)"
   ]
  },
  {
   "cell_type": "code",
   "execution_count": 14,
   "metadata": {},
   "outputs": [],
   "source": [
    "treinamento, teste = [], []\n",
    "max_rotulo1, max_rotulo2 = int(p * rotulo1), int(p * rotulo2)\n",
    "total_rotulo1, total_rotulo2 = 0, 0\n",
    "for amostra in amostras:\n",
    "    if(total_rotulo1 + total_rotulo2) < (max_rotulo1 + max_rotulo2):\n",
    "        treinamento.append(amostra)\n",
    "        if amostra[-1] == 1 and total_rotulo1 < max_rotulo1:\n",
    "            total_rotulo1 += 1\n",
    "        else:\n",
    "            total_rotulo2 += 1\n",
    "    else:\n",
    "        teste.append(amostra)"
   ]
  },
  {
   "cell_type": "code",
   "execution_count": 15,
   "metadata": {},
   "outputs": [
    {
     "name": "stdout",
     "output_type": "stream",
     "text": [
      "Total de amostras: 183\n",
      "Total rotulo 1: 132\n",
      "Total rotulo 2: 51\n"
     ]
    },
    {
     "data": {
      "text/plain": [
       "[183, 132, 51]"
      ]
     },
     "execution_count": 15,
     "metadata": {},
     "output_type": "execute_result"
    }
   ],
   "source": [
    "info_dataset(treinamento)"
   ]
  },
  {
   "cell_type": "code",
   "execution_count": 17,
   "metadata": {},
   "outputs": [
    {
     "name": "stdout",
     "output_type": "stream",
     "text": [
      "Total de amostras: 123\n",
      "Total rotulo 1: 93\n",
      "Total rotulo 2: 30\n"
     ]
    },
    {
     "data": {
      "text/plain": [
       "[123, 93, 30]"
      ]
     },
     "execution_count": 17,
     "metadata": {},
     "output_type": "execute_result"
    }
   ],
   "source": [
    "info_dataset(teste)"
   ]
  },
  {
   "cell_type": "code",
   "execution_count": 18,
   "metadata": {},
   "outputs": [],
   "source": [
    "import math"
   ]
  },
  {
   "cell_type": "code",
   "execution_count": 19,
   "metadata": {},
   "outputs": [],
   "source": [
    "def dist_euclidiana(v1, v2):\n",
    "    dim, soma = len(v1), 0\n",
    "    for i in range(dim-1):\n",
    "        soma += math.pow(v1[i] - v2[i], 2)\n",
    "    return math.sqrt(soma)"
   ]
  },
  {
   "cell_type": "code",
   "execution_count": 21,
   "metadata": {},
   "outputs": [],
   "source": [
    "def knn(treinamento, nova_amostra, k):\n",
    "    dist, tam_treino = {}, len(treinamento)\n",
    "    #calcula a dist euclidiana da nova amostra para todos os exemplos\n",
    "    for i in range(tam_treino):\n",
    "        d = dist_euclidiana(treinamento[i], nova_amostra)\n",
    "        dist[i] = d\n",
    "    \n",
    "    #obtem as chaves dos k vizinhos mais proximos\n",
    "    k_vizinhos = sorted(dist, key=dist.get)[:k]\n",
    "    \n",
    "    #majoritaria\n",
    "    qtd_rotulo1, qtd_rotulo2 = 0,0\n",
    "    for indice in k_vizinhos:\n",
    "        if treinamento[indice][-1] == 1:\n",
    "            qtd_rotulo1 +=1\n",
    "        else:\n",
    "            qtd_rotulo2 += 1\n",
    "    if qtd_rotulo1 > qtd_rotulo2:\n",
    "        return 1\n",
    "    else:\n",
    "        return 2"
   ]
  },
  {
   "cell_type": "code",
   "execution_count": 27,
   "metadata": {},
   "outputs": [
    {
     "name": "stdout",
     "output_type": "stream",
     "text": [
      "[56, 66, 2, 1]\n",
      "1\n"
     ]
    }
   ],
   "source": [
    "print(teste[10])\n",
    "print(knn(treinamento, teste[0], k=13))"
   ]
  },
  {
   "cell_type": "code",
   "execution_count": 51,
   "metadata": {},
   "outputs": [
    {
     "name": "stdout",
     "output_type": "stream",
     "text": [
      "total de treinamento: 183\n",
      "total de testes: 123\n",
      "total de acertos: 96\n",
      "porcentagem de acertos: 78.05%\n"
     ]
    }
   ],
   "source": [
    "acertos, K = 0, 40\n",
    "for amostra in teste:\n",
    "    classe = knn(treinamento, amostra, K)\n",
    "    if amostra[-1] == classe:\n",
    "        acertos += 1\n",
    "\n",
    "print('total de treinamento: %d' % len(treinamento))\n",
    "print('total de testes: %d' %len(teste))\n",
    "print('total de acertos: %d' %acertos)\n",
    "print('porcentagem de acertos: %.2f%%' % (100*acertos/len(teste)))"
   ]
  },
  {
   "cell_type": "code",
   "execution_count": null,
   "metadata": {},
   "outputs": [],
   "source": []
  }
 ],
 "metadata": {
  "kernelspec": {
   "display_name": "Python 3",
   "language": "python",
   "name": "python3"
  },
  "language_info": {
   "codemirror_mode": {
    "name": "ipython",
    "version": 3
   },
   "file_extension": ".py",
   "mimetype": "text/x-python",
   "name": "python",
   "nbconvert_exporter": "python",
   "pygments_lexer": "ipython3",
   "version": "3.6.6"
  }
 },
 "nbformat": 4,
 "nbformat_minor": 2
}
